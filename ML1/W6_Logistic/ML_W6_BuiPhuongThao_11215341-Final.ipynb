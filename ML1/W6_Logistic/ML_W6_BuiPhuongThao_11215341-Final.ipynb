{
 "cells": [
  {
   "cell_type": "markdown",
   "id": "e6207dd3",
   "metadata": {},
   "source": [
    "### NAME: BÙI PHƯƠNG THẢO\n",
    "### ID: 11215341\n",
    "### CLASS: DSEB63"
   ]
  },
  {
   "cell_type": "code",
   "execution_count": 210,
   "id": "d0e99d61",
   "metadata": {},
   "outputs": [],
   "source": [
    "import pandas as pd\n",
    "import numpy as np\n",
    "import matplotlib.pyplot as plt"
   ]
  },
  {
   "cell_type": "markdown",
   "id": "e27521a4",
   "metadata": {},
   "source": [
    "#### PROBLEM 2: Implement logistic regression algorithm from scratch. You can use Gradient Descent or Newton Raphson as optimization method for loss function. Note that your implementation should follow an OOP form."
   ]
  },
  {
   "cell_type": "code",
   "execution_count": 217,
   "id": "ee2d4428",
   "metadata": {},
   "outputs": [],
   "source": [
    "def them_cot_mot(x):\n",
    "    if len(x.shape) == 1:\n",
    "        x_1 = np.hstack((np.ones(x.reshape(-1,1).shape[1]),x))\n",
    "    else:\n",
    "        x_1 = np.hstack((np.ones((x.shape[0],1)),x))\n",
    "    return x_1\n",
    "\n",
    "def sigmoid(z): #clip để tránh overflow ?\n",
    "    return 1/(1 + np.exp(-z))"
   ]
  },
  {
   "cell_type": "code",
   "execution_count": 218,
   "id": "a951d759",
   "metadata": {},
   "outputs": [],
   "source": [
    "class Logistic:\n",
    "    def __init__(self):\n",
    "        self.x = None\n",
    "        self.y = None\n",
    "        self.w = None\n",
    "    \n",
    "    def fit(self,x, y):\n",
    "        learning_rate = 0.01\n",
    "        self.x = them_cot_mot(x)\n",
    "        self.w = np.zeros(self.x.shape[1])\n",
    "        itera = 1000\n",
    "        self.y = y\n",
    "        for i in range(1,itera):\n",
    "            y_pred = sigmoid(np.dot(self.x,self.w))\n",
    "            gradient = np.dot(self.x.T,(y_pred - self.y))\n",
    "            self.w = self.w - learning_rate * gradient\n",
    "        return self.w\n",
    "    \n",
    "    def predict(self,x):\n",
    "        x = them_cot_mot(x)\n",
    "        xTw = np.dot(x,self.w)\n",
    "        if sigmoid(xTw) >= 0.5:\n",
    "            return 1\n",
    "        else:\n",
    "            return 0\n",
    "    \n",
    "    def plot(self):\n",
    "        plt.scatter(self.x[self.y == 0,1], self.x[self.y == 0, 2], c = 'blue', label = 'y = 0')\n",
    "        plt.scatter(self.x[self.y == 1,1], self.x[self.y == 1, 2], c = 'red', label = 'y = 1')\n",
    "        plt.legend()\n",
    "        plt.xlabel('x_1')\n",
    "        plt.ylabel('x_2')\n",
    "        \n",
    "        #decision boundary\n",
    "        xkeke = np.arange(np.min(self.x[:,1]),np.max(self.x[:,1]), 0.01)\n",
    "        ykeke = - ((self.w[0]/self.w[2]) + ((self.w[1]/self.w[2]) * xkeke))\n",
    "        plt.plot(xkeke,ykeke, c = 'green')\n",
    "        plt.show()"
   ]
  },
  {
   "cell_type": "code",
   "execution_count": 219,
   "id": "697aaa15",
   "metadata": {},
   "outputs": [
    {
     "data": {
      "text/html": [
       "<div>\n",
       "<style scoped>\n",
       "    .dataframe tbody tr th:only-of-type {\n",
       "        vertical-align: middle;\n",
       "    }\n",
       "\n",
       "    .dataframe tbody tr th {\n",
       "        vertical-align: top;\n",
       "    }\n",
       "\n",
       "    .dataframe thead th {\n",
       "        text-align: right;\n",
       "    }\n",
       "</style>\n",
       "<table border=\"1\" class=\"dataframe\">\n",
       "  <thead>\n",
       "    <tr style=\"text-align: right;\">\n",
       "      <th></th>\n",
       "      <th>x_1</th>\n",
       "      <th>x_2</th>\n",
       "      <th>y</th>\n",
       "    </tr>\n",
       "  </thead>\n",
       "  <tbody>\n",
       "    <tr>\n",
       "      <th>0</th>\n",
       "      <td>2.911809</td>\n",
       "      <td>60.359613</td>\n",
       "      <td>0.0</td>\n",
       "    </tr>\n",
       "    <tr>\n",
       "      <th>1</th>\n",
       "      <td>3.774746</td>\n",
       "      <td>344.149284</td>\n",
       "      <td>0.0</td>\n",
       "    </tr>\n",
       "    <tr>\n",
       "      <th>2</th>\n",
       "      <td>2.615488</td>\n",
       "      <td>178.222087</td>\n",
       "      <td>0.0</td>\n",
       "    </tr>\n",
       "    <tr>\n",
       "      <th>3</th>\n",
       "      <td>2.013694</td>\n",
       "      <td>15.259472</td>\n",
       "      <td>0.0</td>\n",
       "    </tr>\n",
       "    <tr>\n",
       "      <th>4</th>\n",
       "      <td>2.757625</td>\n",
       "      <td>66.194174</td>\n",
       "      <td>0.0</td>\n",
       "    </tr>\n",
       "    <tr>\n",
       "      <th>...</th>\n",
       "      <td>...</td>\n",
       "      <td>...</td>\n",
       "      <td>...</td>\n",
       "    </tr>\n",
       "    <tr>\n",
       "      <th>795</th>\n",
       "      <td>3.724697</td>\n",
       "      <td>23.219963</td>\n",
       "      <td>1.0</td>\n",
       "    </tr>\n",
       "    <tr>\n",
       "      <th>796</th>\n",
       "      <td>3.139055</td>\n",
       "      <td>5.970538</td>\n",
       "      <td>1.0</td>\n",
       "    </tr>\n",
       "    <tr>\n",
       "      <th>797</th>\n",
       "      <td>2.969095</td>\n",
       "      <td>20.249978</td>\n",
       "      <td>1.0</td>\n",
       "    </tr>\n",
       "    <tr>\n",
       "      <th>798</th>\n",
       "      <td>3.957531</td>\n",
       "      <td>27.261970</td>\n",
       "      <td>1.0</td>\n",
       "    </tr>\n",
       "    <tr>\n",
       "      <th>799</th>\n",
       "      <td>4.025334</td>\n",
       "      <td>12.233165</td>\n",
       "      <td>1.0</td>\n",
       "    </tr>\n",
       "  </tbody>\n",
       "</table>\n",
       "<p>800 rows × 3 columns</p>\n",
       "</div>"
      ],
      "text/plain": [
       "          x_1         x_2    y\n",
       "0    2.911809   60.359613  0.0\n",
       "1    3.774746  344.149284  0.0\n",
       "2    2.615488  178.222087  0.0\n",
       "3    2.013694   15.259472  0.0\n",
       "4    2.757625   66.194174  0.0\n",
       "..        ...         ...  ...\n",
       "795  3.724697   23.219963  1.0\n",
       "796  3.139055    5.970538  1.0\n",
       "797  2.969095   20.249978  1.0\n",
       "798  3.957531   27.261970  1.0\n",
       "799  4.025334   12.233165  1.0\n",
       "\n",
       "[800 rows x 3 columns]"
      ]
     },
     "execution_count": 219,
     "metadata": {},
     "output_type": "execute_result"
    }
   ],
   "source": [
    "data = pd.read_csv(r\"C:\\Users\\KyThuat88\\Downloads\\ds1_train.csv\")\n",
    "data"
   ]
  },
  {
   "cell_type": "code",
   "execution_count": 220,
   "id": "568c678a",
   "metadata": {},
   "outputs": [],
   "source": [
    "check = Logistic()\n",
    "x = np.array(data.iloc[:,:-1])\n",
    "y = np.array(data.iloc[:,-1])"
   ]
  },
  {
   "cell_type": "code",
   "execution_count": 209,
   "id": "dd5f407a",
   "metadata": {},
   "outputs": [
    {
     "data": {
      "text/plain": [
       "(800, 2)"
      ]
     },
     "execution_count": 209,
     "metadata": {},
     "output_type": "execute_result"
    }
   ],
   "source": [
    "x.shape"
   ]
  },
  {
   "cell_type": "code",
   "execution_count": 221,
   "id": "09706b64",
   "metadata": {},
   "outputs": [
    {
     "name": "stderr",
     "output_type": "stream",
     "text": [
      "C:\\Users\\KyThuat88\\AppData\\Local\\Temp\\ipykernel_8956\\1610279779.py:9: RuntimeWarning: overflow encountered in exp\n",
      "  return 1/(1 + np.exp(-z))\n"
     ]
    },
    {
     "data": {
      "text/plain": [
       "array([   8.03225601, 2203.58034901,  -93.02132811])"
      ]
     },
     "execution_count": 221,
     "metadata": {},
     "output_type": "execute_result"
    }
   ],
   "source": [
    "w = check.fit(x,y)\n",
    "w"
   ]
  },
  {
   "cell_type": "code",
   "execution_count": 222,
   "id": "2cf32e6a",
   "metadata": {},
   "outputs": [
    {
     "data": {
      "image/png": "[encoded data removed]",
      "text/plain": [
       "<Figure size 432x288 with 1 Axes>"
      ]
     },
     "metadata": {
      "needs_background": "light"
     },
     "output_type": "display_data"
    }
   ],
   "source": [
    "check.plot()"
   ]
  },
  {
   "cell_type": "code",
   "execution_count": 225,
   "id": "d5a3a933",
   "metadata": {},
   "outputs": [
    {
     "data": {
      "text/html": [
       "<div>\n",
       "<style scoped>\n",
       "    .dataframe tbody tr th:only-of-type {\n",
       "        vertical-align: middle;\n",
       "    }\n",
       "\n",
       "    .dataframe tbody tr th {\n",
       "        vertical-align: top;\n",
       "    }\n",
       "\n",
       "    .dataframe thead th {\n",
       "        text-align: right;\n",
       "    }\n",
       "</style>\n",
       "<table border=\"1\" class=\"dataframe\">\n",
       "  <thead>\n",
       "    <tr style=\"text-align: right;\">\n",
       "      <th></th>\n",
       "      <th>x_1</th>\n",
       "      <th>x_2</th>\n",
       "      <th>y</th>\n",
       "    </tr>\n",
       "  </thead>\n",
       "  <tbody>\n",
       "    <tr>\n",
       "      <th>0</th>\n",
       "      <td>2.177396</td>\n",
       "      <td>78.630076</td>\n",
       "      <td>0.0</td>\n",
       "    </tr>\n",
       "    <tr>\n",
       "      <th>1</th>\n",
       "      <td>3.952131</td>\n",
       "      <td>123.541573</td>\n",
       "      <td>0.0</td>\n",
       "    </tr>\n",
       "    <tr>\n",
       "      <th>2</th>\n",
       "      <td>3.351176</td>\n",
       "      <td>47.752517</td>\n",
       "      <td>0.0</td>\n",
       "    </tr>\n",
       "    <tr>\n",
       "      <th>3</th>\n",
       "      <td>2.074934</td>\n",
       "      <td>26.997730</td>\n",
       "      <td>0.0</td>\n",
       "    </tr>\n",
       "    <tr>\n",
       "      <th>4</th>\n",
       "      <td>3.579775</td>\n",
       "      <td>226.703779</td>\n",
       "      <td>0.0</td>\n",
       "    </tr>\n",
       "    <tr>\n",
       "      <th>...</th>\n",
       "      <td>...</td>\n",
       "      <td>...</td>\n",
       "      <td>...</td>\n",
       "    </tr>\n",
       "    <tr>\n",
       "      <th>95</th>\n",
       "      <td>3.795618</td>\n",
       "      <td>11.708285</td>\n",
       "      <td>1.0</td>\n",
       "    </tr>\n",
       "    <tr>\n",
       "      <th>96</th>\n",
       "      <td>3.953480</td>\n",
       "      <td>7.320390</td>\n",
       "      <td>1.0</td>\n",
       "    </tr>\n",
       "    <tr>\n",
       "      <th>97</th>\n",
       "      <td>3.863524</td>\n",
       "      <td>26.396698</td>\n",
       "      <td>1.0</td>\n",
       "    </tr>\n",
       "    <tr>\n",
       "      <th>98</th>\n",
       "      <td>4.917294</td>\n",
       "      <td>102.078713</td>\n",
       "      <td>1.0</td>\n",
       "    </tr>\n",
       "    <tr>\n",
       "      <th>99</th>\n",
       "      <td>3.319729</td>\n",
       "      <td>12.761634</td>\n",
       "      <td>1.0</td>\n",
       "    </tr>\n",
       "  </tbody>\n",
       "</table>\n",
       "<p>100 rows × 3 columns</p>\n",
       "</div>"
      ],
      "text/plain": [
       "         x_1         x_2    y\n",
       "0   2.177396   78.630076  0.0\n",
       "1   3.952131  123.541573  0.0\n",
       "2   3.351176   47.752517  0.0\n",
       "3   2.074934   26.997730  0.0\n",
       "4   3.579775  226.703779  0.0\n",
       "..       ...         ...  ...\n",
       "95  3.795618   11.708285  1.0\n",
       "96  3.953480    7.320390  1.0\n",
       "97  3.863524   26.396698  1.0\n",
       "98  4.917294  102.078713  1.0\n",
       "99  3.319729   12.761634  1.0\n",
       "\n",
       "[100 rows x 3 columns]"
      ]
     },
     "execution_count": 225,
     "metadata": {},
     "output_type": "execute_result"
    }
   ],
   "source": [
    "val_data = pd.read_csv(r\"C:\\Users\\KyThuat88\\Downloads\\ds1_valid.csv\")\n",
    "val_data"
   ]
  },
  {
   "cell_type": "code",
   "execution_count": 226,
   "id": "c6fb414e",
   "metadata": {},
   "outputs": [],
   "source": [
    "x_val = np.array(val_data.iloc[:,:-1])\n",
    "y_val = np.array(val_data.iloc[:,-1])"
   ]
  },
  {
   "cell_type": "code",
   "execution_count": 231,
   "id": "b7d813c5",
   "metadata": {},
   "outputs": [
    {
     "data": {
      "text/plain": [
       "100"
      ]
     },
     "execution_count": 231,
     "metadata": {},
     "output_type": "execute_result"
    }
   ],
   "source": [
    "len(x_val)"
   ]
  },
  {
   "cell_type": "code",
   "execution_count": 235,
   "id": "0ac14e12",
   "metadata": {},
   "outputs": [
    {
     "name": "stderr",
     "output_type": "stream",
     "text": [
      "C:\\Users\\KyThuat88\\AppData\\Local\\Temp\\ipykernel_8956\\1610279779.py:9: RuntimeWarning: overflow encountered in exp\n",
      "  return 1/(1 + np.exp(-z))\n"
     ]
    },
    {
     "data": {
      "text/plain": [
       "array([0, 0, 1, 1, 0, 0, 0, 1, 1, 0, 0, 1, 0, 0, 0, 0, 0, 1, 0, 0, 0, 1,\n",
       "       1, 0, 0, 0, 0, 1, 1, 0, 0, 1, 1, 0, 0, 0, 0, 1, 1, 1, 0, 1, 1, 0,\n",
       "       0, 1, 1, 0, 0, 1, 0, 1, 0, 1, 1, 1, 1, 1, 1, 1, 1, 1, 1, 1, 1, 1,\n",
       "       1, 0, 1, 1, 1, 1, 1, 1, 1, 1, 1, 1, 1, 1, 1, 1, 1, 1, 1, 1, 1, 1,\n",
       "       1, 0, 1, 1, 1, 1, 1, 1, 1, 1, 1, 1])"
      ]
     },
     "execution_count": 235,
     "metadata": {},
     "output_type": "execute_result"
    }
   ],
   "source": [
    "y_predict = np.array([check.predict(x_val[i]) for i in range(0,len(x_val))])\n",
    "#y_predict"
   ]
  },
  {
   "cell_type": "code",
   "execution_count": 236,
   "id": "e6608a3a",
   "metadata": {},
   "outputs": [
    {
     "data": {
      "text/plain": [
       "100"
      ]
     },
     "execution_count": 236,
     "metadata": {},
     "output_type": "execute_result"
    }
   ],
   "source": [
    "len(y_predict)"
   ]
  },
  {
   "cell_type": "code",
   "execution_count": 237,
   "id": "fbdd0e4f",
   "metadata": {},
   "outputs": [
    {
     "name": "stdout",
     "output_type": "stream",
     "text": [
      "0.76\n"
     ]
    }
   ],
   "source": [
    "from sklearn.metrics import accuracy_score\n",
    "print(accuracy_score(y_val, y_predict))"
   ]
  },
  {
   "cell_type": "code",
   "execution_count": 238,
   "id": "3865a8c1",
   "metadata": {},
   "outputs": [],
   "source": [
    "vall = Logistic()"
   ]
  },
  {
   "cell_type": "code",
   "execution_count": 239,
   "id": "8c12ebee",
   "metadata": {},
   "outputs": [
    {
     "name": "stderr",
     "output_type": "stream",
     "text": [
      "C:\\Users\\KyThuat88\\AppData\\Local\\Temp\\ipykernel_8956\\1610279779.py:9: RuntimeWarning: overflow encountered in exp\n",
      "  return 1/(1 + np.exp(-z))\n"
     ]
    },
    {
     "data": {
      "image/png": "[encoded data removed]",
      "text/plain": [
       "<Figure size 432x288 with 1 Axes>"
      ]
     },
     "metadata": {
      "needs_background": "light"
     },
     "output_type": "display_data"
    }
   ],
   "source": [
    "vall.fit(x_val,y_val)\n",
    "vall.plot()"
   ]
  },
  {
   "cell_type": "code",
   "execution_count": 246,
   "id": "11ea01c1",
   "metadata": {},
   "outputs": [
    {
     "data": {
      "text/plain": [
       "array([[1, 2, 3],\n",
       "       [4, 5, 6],\n",
       "       [7, 8, 9],\n",
       "       [0, 0, 0],\n",
       "       [1, 1, 1],\n",
       "       [1, 1, 1]])"
      ]
     },
     "execution_count": 246,
     "metadata": {},
     "output_type": "execute_result"
    }
   ],
   "source": [
    "test = np.array(([[1,2,3,4,5,6],[7,8,9,0,0,0],[1,1,1,1,1,1]])).reshape(-1,3)\n",
    "test"
   ]
  },
  {
   "cell_type": "code",
   "execution_count": 247,
   "id": "d065c6e9",
   "metadata": {},
   "outputs": [
    {
     "data": {
      "text/plain": [
       "(6, 3)"
      ]
     },
     "execution_count": 247,
     "metadata": {},
     "output_type": "execute_result"
    }
   ],
   "source": [
    "test.shape"
   ]
  },
  {
   "cell_type": "code",
   "execution_count": 249,
   "id": "d07a5f80",
   "metadata": {},
   "outputs": [
    {
     "data": {
      "text/plain": [
       "(3,)"
      ]
     },
     "execution_count": 249,
     "metadata": {},
     "output_type": "execute_result"
    }
   ],
   "source": [
    "test[0].shape"
   ]
  },
  {
   "cell_type": "code",
   "execution_count": 250,
   "id": "93664eef",
   "metadata": {},
   "outputs": [
    {
     "data": {
      "text/plain": [
       "array([[1., 1., 2., 3.],\n",
       "       [1., 4., 5., 6.],\n",
       "       [1., 7., 8., 9.],\n",
       "       [1., 0., 0., 0.],\n",
       "       [1., 1., 1., 1.],\n",
       "       [1., 1., 1., 1.]])"
      ]
     },
     "execution_count": 250,
     "metadata": {},
     "output_type": "execute_result"
    }
   ],
   "source": [
    "them_cot_mot(test)"
   ]
  },
  {
   "cell_type": "code",
   "execution_count": 251,
   "id": "7d06c1ea",
   "metadata": {},
   "outputs": [
    {
     "data": {
      "text/plain": [
       "array([1., 1., 2., 3.])"
      ]
     },
     "execution_count": 251,
     "metadata": {},
     "output_type": "execute_result"
    }
   ],
   "source": [
    "them_cot_mot(test[0])"
   ]
  },
  {
   "cell_type": "code",
   "execution_count": null,
   "id": "78350102",
   "metadata": {},
   "outputs": [],
   "source": []
  }
 ],
 "metadata": {
  "kernelspec": {
   "display_name": "Python 3 (ipykernel)",
   "language": "python",
   "name": "python3"
  },
  "language_info": {
   "codemirror_mode": {
    "name": "ipython",
    "version": 3
   },
   "file_extension": ".py",
   "mimetype": "text/x-python",
   "name": "python",
   "nbconvert_exporter": "python",
   "pygments_lexer": "ipython3",
   "version": "3.9.12"
  }
 },
 "nbformat": 4,
 "nbformat_minor": 5
}
