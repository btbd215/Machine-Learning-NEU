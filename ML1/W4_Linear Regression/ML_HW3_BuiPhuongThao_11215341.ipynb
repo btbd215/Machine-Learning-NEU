{
 "cells": [
  {
   "cell_type": "code",
   "execution_count": 1,
   "id": "20919642",
   "metadata": {},
   "outputs": [
    {
     "data": {
      "image/png": "[encoded data removed]",
      "text/plain": [
       "<Figure size 432x288 with 1 Axes>"
      ]
     },
     "metadata": {
      "needs_background": "light"
     },
     "output_type": "display_data"
    },
    {
     "name": "stdout",
     "output_type": "stream",
     "text": [
      "Estimated price for house with area 50 is 753.4902713382776\n",
      "Estimated price for house with area 100 is 1514.0448113217985\n",
      "Estimated price for house with area 150 is 2274.59935130532\n"
     ]
    }
   ],
   "source": [
    "import pandas as pd\n",
    "import numpy as np\n",
    "import matplotlib.pyplot as plt\n",
    "\n",
    "'EXERCISE 2'\n",
    "data = pd.read_csv(r\"C:\\Users\\KyThuat88\\Downloads\\data_linear.csv\").values\n",
    "length = data.shape[0]\n",
    "x = data[:, 0].reshape(-1,1) #call .reshape() on x because this array must be two-dimensional, must have one column and as many rows as necessary.\n",
    "t = data[:, 1]\n",
    "\n",
    "def them_cot_mot(x):\n",
    "    x_1 = np.hstack((np.ones((length,1)),x))\n",
    "    return x_1\n",
    "\n",
    "class LinearRe:\n",
    "    def __init__(self):\n",
    "        self.w = 0\n",
    "\n",
    "    def w_compute(self,x,t):\n",
    "        x = them_cot_mot(x)\n",
    "        inverse = np.linalg.inv(x.T.dot(x))\n",
    "        self.w = inverse.dot(x.T).dot(t)\n",
    "        return self.w\n",
    "\n",
    "    def predict(self,small_x):\n",
    "        return self.w[0] + small_x * self.w[1]\n",
    "\n",
    "def plot(x,t, w):\n",
    "    plt.scatter(x,t)\n",
    "    plt.xlabel('diện tích')\n",
    "    plt.ylabel('Giá nhà')\n",
    "\n",
    "    x_line = np.arange(np.min(x), np.max(x))\n",
    "    y_line = w[0] + w[1] * x_line\n",
    "    plt.plot(x_line,y_line,color = 'red', linewidth = 2)\n",
    "    plt.show()\n",
    "\n",
    "\n",
    "test = LinearRe()\n",
    "weight = test.w_compute(x,t)\n",
    "plot(x,t,weight)\n",
    "for i in [50,100,150]:\n",
    "    print(f'Estimated price for house with area {i} is {test.predict(i)}')\n"
   ]
  },
  {
   "cell_type": "code",
   "execution_count": null,
   "id": "f6a19dcb",
   "metadata": {},
   "outputs": [],
   "source": [
    "'EXERCISE 3'\n",
    "data2 = pd.read_csv(r\"C:\\Users\\KyThuat88\\Downloads\\housing.csv\", header = None, delimiter=r\"\\s+\")\n",
    "data2.columns = ['CRIM', 'ZN', 'INDUS', 'CHAS', 'NOX', 'RM', 'AGE', 'DIS', 'RAD', 'TAX', 'PTRATIO', 'B', 'LSTAT', 'MEDV']\n",
    "\n",
    "leng = len(data2.columns)\n",
    "x = np.array(data2.iloc[:,list(range(leng - 1))])\n",
    "y = np.array(data2.iloc[:,leng - 1])\n",
    "\n",
    "# def them_cot(x):\n",
    "#     x_0 = np.hstack((np.ones((length, 1)), x))\n",
    "#     return x_1\n",
    "#\n",
    "# class multipleLinearRegression():\n",
    "#   def __init__(self):\n",
    "#     pass\n",
    "#\n",
    "#   def seloss(self,x,t,w):\n",
    "#     y_pred = sum(w * X)\n",
    "#     loss = ((y_pred-y)**2)/2\n",
    "#     return loss, y_pred\n",
    "#\n",
    "#   def updateWeights(self,x,y_pred,y_true,w,alpha,index):\n",
    "#     for i in range(X.shape[1]):\n",
    "#       #alpha = learning rate\n",
    "#       w[i] -= (alpha * (y_pred-y_true[index])*x[index][i])\n",
    "#     return w\n",
    "#\n",
    "#   def predict(self, w):\n",
    "#       return w.T.dot(add_intercept(w))\n",
    "#\n",
    "#\n",
    "# def plotLoss(x,t,w):\n",
    "#     x_pred = add_intercept(x)\n",
    "#     y_pred = x_pred.dot(w)\n",
    "#     plt.plot(t, y_pred - t)\n",
    "#     plt.xlabel('Actual value')\n",
    "#     plt.ylabel('Residual')\n",
    "#     plt.show()"
   ]
  }
 ],
 "metadata": {
  "kernelspec": {
   "display_name": "Python 3 (ipykernel)",
   "language": "python",
   "name": "python3"
  },
  "language_info": {
   "codemirror_mode": {
    "name": "ipython",
    "version": 3
   },
   "file_extension": ".py",
   "mimetype": "text/x-python",
   "name": "python",
   "nbconvert_exporter": "python",
   "pygments_lexer": "ipython3",
   "version": "3.9.12"
  }
 },
 "nbformat": 4,
 "nbformat_minor": 5
}
